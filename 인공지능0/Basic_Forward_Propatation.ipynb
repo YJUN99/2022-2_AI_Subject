{
  "nbformat": 4,
  "nbformat_minor": 0,
  "metadata": {
    "colab": {
      "provenance": [],
      "collapsed_sections": []
    },
    "kernelspec": {
      "name": "python3",
      "display_name": "Python 3"
    },
    "language_info": {
      "name": "python"
    }
  },
  "cells": [
    {
      "cell_type": "code",
      "execution_count": 1,
      "metadata": {
        "id": "YZPwG0Gib7kp",
        "colab": {
          "base_uri": "https://localhost:8080/"
        },
        "outputId": "8fd70618-9b1b-4658-f316-772a3581cc2a"
      },
      "outputs": [
        {
          "output_type": "stream",
          "name": "stdout",
          "text": [
            "[[0.72630335]\n",
            " [0.70859807]\n",
            " [0.77809706]]\n"
          ]
        }
      ],
      "source": [
        "import numpy as np\n",
        "\n",
        "Input = np.array([\n",
        "    [0.9],\n",
        "    [0.1],\n",
        "    [0.8]])\n",
        "\n",
        "Weight_Input_Hidden = np.array([\n",
        "    [0.9,0.3,0.4], \n",
        "    [0.2,0.8,0.2],\n",
        "    [0.1,0.5,0.6]])\n",
        "\n",
        "Weight_Hidden_Output = np.array([\n",
        "    [0.3,0.7,0.5],\n",
        "    [0.6,0.5,0.2],\n",
        "    [0.8,0.1,0.9]])\n",
        "\n",
        "def sigmoid(_X):\n",
        "    return 1/(1+np.exp(-1 * _X))\n",
        "\n",
        "X_Hidden = Weight_Input_Hidden @ Input\n",
        "O_Hidden = np.empty((0,3),float)\n",
        "for i in range(0,3):\n",
        "    O_Hidden = np.append(O_Hidden,sigmoid(X_Hidden[i]))\n",
        "O_Hidden = O_Hidden.reshape(3,1)\n",
        "\n",
        "\n",
        "X_Output = Weight_Hidden_Output @ O_Hidden\n",
        "O_Output = np.empty((0,3),float)\n",
        "for i in range(0,3):\n",
        "    O_Output = np.append(O_Output,sigmoid(X_Output[i]))\n",
        "O_Output = O_Output.reshape(3,1)\n",
        "\n",
        "print(O_Output)"
      ]
    }
  ]
}
{
 "cells": [
  {
   "cell_type": "code",
   "execution_count": 14,
   "metadata": {},
   "outputs": [],
   "source": [
    "%run Homework.ipynb"
   ]
  },
  {
   "cell_type": "code",
   "execution_count": 15,
   "metadata": {},
   "outputs": [],
   "source": [
    "def alloc_param_pair(shape):\n",
    "    # 허 초기화 방식 사용\n",
    "    RND_STD = np.sqrt(2 / (shape[0]))\n",
    "    weight = np.random.normal(RND_MEAN, np.power(RND_STD,2), shape)\n",
    "    bias = np.zeros(shape[-1])\n",
    "    return {'w':weight, 'b':bias}"
   ]
  },
  {
   "cell_type": "code",
   "execution_count": null,
   "metadata": {},
   "outputs": [],
   "source": [
    "# 단층구조 Node : 1\n",
    "LEARNING_RATE = 0.001\n",
    "RND_MEAN = 0\n",
    "Layer_node_info = [8, 8]\n",
    "file_set('./Result/Relu20/%s _ ETA _ STD _ Relu _ He'%Layer_node_info)\n",
    "set_hidden(Layer_node_info)\n",
    "NUM_exec(epoch_count=1000, report=10)\n",
    "f.close()"
   ]
  },
  {
   "cell_type": "code",
   "execution_count": null,
   "metadata": {},
   "outputs": [],
   "source": [
    "# 단층구조 Node : 1\n",
    "LEARNING_RATE = 0.001\n",
    "RND_MEAN = 0\n",
    "Layer_node_info = [16, 16]\n",
    "file_set('./Result/Relu20/%s _ ETA _ STD _ Relu _ He'%Layer_node_info)\n",
    "set_hidden(Layer_node_info)\n",
    "NUM_exec(epoch_count=1000, report=10)\n",
    "f.close()"
   ]
  },
  {
   "cell_type": "code",
   "execution_count": 11,
   "metadata": {},
   "outputs": [],
   "source": [
    "# 단층구조 Node : 1\n",
    "LEARNING_RATE = 0.001\n",
    "RND_MEAN = 0\n",
    "Layer_node_info = [32, 32]\n",
    "file_set('./Result/Relu20/%s _ ETA _ STD _ Relu _ He'%Layer_node_info)\n",
    "set_hidden(Layer_node_info)\n",
    "NUM_exec(epoch_count=1000, report=10)\n",
    "f.close()"
   ]
  },
  {
   "cell_type": "code",
   "execution_count": 10,
   "metadata": {},
   "outputs": [],
   "source": [
    "# 단층구조 Node : 1\n",
    "LEARNING_RATE = 0.001\n",
    "RND_MEAN = 0\n",
    "Layer_node_info = [64, 64]\n",
    "file_set('./Result/Relu20/%s _ ETA _ STD _ Relu _ He'%Layer_node_info)\n",
    "set_hidden(Layer_node_info)\n",
    "NUM_exec(epoch_count=1000, report=10)\n",
    "f.close()"
   ]
  },
  {
   "cell_type": "code",
   "execution_count": null,
   "metadata": {},
   "outputs": [],
   "source": [
    "# 단층구조 Node : 1\n",
    "LEARNING_RATE = 0.001\n",
    "RND_MEAN = 0\n",
    "Layer_node_info = [128, 128]\n",
    "file_set('./Result/Relu20/%s _ ETA _ STD _ Relu _ He'%Layer_node_info)\n",
    "set_hidden(Layer_node_info)\n",
    "NUM_exec(epoch_count=1000, report=10)\n",
    "f.close()"
   ]
  },
  {
   "cell_type": "code",
   "execution_count": null,
   "metadata": {},
   "outputs": [],
   "source": [
    "# 단층구조 Node : 1\n",
    "LEARNING_RATE = 0.001\n",
    "RND_MEAN = 0\n",
    "Layer_node_info = [256, 256]\n",
    "file_set('./Result/Relu20/%s _ ETA _ STD _ Relu _ He'%Layer_node_info)\n",
    "set_hidden(Layer_node_info)\n",
    "NUM_exec(epoch_count=1000, report=10)\n",
    "f.close()"
   ]
  },
  {
   "cell_type": "code",
   "execution_count": null,
   "metadata": {},
   "outputs": [],
   "source": [
    "# 단층구조 Node : 1\n",
    "LEARNING_RATE = 0.001\n",
    "RND_MEAN = 0\n",
    "Layer_node_info = [256, 32]\n",
    "file_set('./Result/Relu20/%s _ ETA _ STD _ Relu _ He'%Layer_node_info)\n",
    "set_hidden(Layer_node_info)\n",
    "NUM_exec(epoch_count=1000, report=10)\n",
    "f.close()"
   ]
  },
  {
   "cell_type": "code",
   "execution_count": null,
   "metadata": {},
   "outputs": [],
   "source": [
    "# 단층구조 Node : 1\n",
    "LEARNING_RATE = 0.001\n",
    "RND_MEAN = 0\n",
    "Layer_node_info = [32, 256]\n",
    "file_set('./Result/Relu20/%s _ ETA _ STD _ Relu _ He'%Layer_node_info)\n",
    "set_hidden(Layer_node_info)\n",
    "NUM_exec(epoch_count=1000, report=10)\n",
    "f.close()"
   ]
  },
  {
   "cell_type": "code",
   "execution_count": null,
   "metadata": {},
   "outputs": [],
   "source": [
    "# 단층구조 Node : 1\n",
    "LEARNING_RATE = 0.001\n",
    "RND_MEAN = 0\n",
    "Layer_node_info = [128, 8]\n",
    "file_set('./Result/Relu20/%s _ ETA _ STD _ Relu _ He'%Layer_node_info)\n",
    "set_hidden(Layer_node_info)\n",
    "NUM_exec(epoch_count=1000, report=10)\n",
    "f.close()"
   ]
  },
  {
   "cell_type": "code",
   "execution_count": null,
   "metadata": {},
   "outputs": [],
   "source": [
    "# 단층구조 Node : 1\n",
    "LEARNING_RATE = 0.001\n",
    "RND_MEAN = 0\n",
    "Layer_node_info = [8, 128]\n",
    "file_set('./Result/Relu20/%s _ ETA _ STD _ Relu _ He'%Layer_node_info)\n",
    "set_hidden(Layer_node_info)\n",
    "NUM_exec(epoch_count=1000, report=10)\n",
    "f.close()"
   ]
  },
  {
   "cell_type": "code",
   "execution_count": null,
   "metadata": {},
   "outputs": [],
   "source": [
    "# 단층구조 Node : 1\n",
    "LEARNING_RATE = 0.001\n",
    "RND_MEAN = 0\n",
    "Layer_node_info = [1, 1, 1]\n",
    "file_set('./Result/Relu20/%s _ ETA _ STD _ Relu _ He'%Layer_node_info)\n",
    "set_hidden(Layer_node_info)\n",
    "NUM_exec(epoch_count=1000, report=10)\n",
    "f.close()"
   ]
  },
  {
   "cell_type": "code",
   "execution_count": null,
   "metadata": {},
   "outputs": [],
   "source": [
    "# 단층구조 Node : 1\n",
    "LEARNING_RATE = 0.001\n",
    "RND_MEAN = 0\n",
    "Layer_node_info = [2, 2, 2]\n",
    "file_set('./Result/Relu20/%s _ ETA _ STD _ Relu _ He'%Layer_node_info)\n",
    "set_hidden(Layer_node_info)\n",
    "NUM_exec(epoch_count=1000, report=10)\n",
    "f.close()"
   ]
  },
  {
   "cell_type": "code",
   "execution_count": null,
   "metadata": {},
   "outputs": [],
   "source": [
    "# 단층구조 Node : 1\n",
    "LEARNING_RATE = 0.001\n",
    "RND_MEAN = 0\n",
    "Layer_node_info = [4, 4, 4]\n",
    "file_set('./Result/Relu20/%s _ ETA _ STD _ Relu _ He'%Layer_node_info)\n",
    "set_hidden(Layer_node_info)\n",
    "NUM_exec(epoch_count=1000, report=10)\n",
    "f.close()"
   ]
  },
  {
   "cell_type": "code",
   "execution_count": null,
   "metadata": {},
   "outputs": [],
   "source": [
    "# 단층구조 Node : 1\n",
    "LEARNING_RATE = 0.001\n",
    "RND_MEAN = 0\n",
    "Layer_node_info = [8, 8, 8]\n",
    "file_set('./Result/Relu20/%s _ ETA _ STD _ Relu _ He'%Layer_node_info)\n",
    "set_hidden(Layer_node_info)\n",
    "NUM_exec(epoch_count=1000, report=10)\n",
    "f.close()"
   ]
  },
  {
   "cell_type": "code",
   "execution_count": null,
   "metadata": {},
   "outputs": [],
   "source": [
    "# 단층구조 Node : 1\n",
    "LEARNING_RATE = 0.001\n",
    "RND_MEAN = 0\n",
    "Layer_node_info = [16, 16, 16]\n",
    "file_set('./Result/Relu20/%s _ ETA _ STD _ Relu _ He'%Layer_node_info)\n",
    "set_hidden(Layer_node_info)\n",
    "NUM_exec(epoch_count=1000, report=10)\n",
    "f.close()"
   ]
  },
  {
   "cell_type": "code",
   "execution_count": null,
   "metadata": {},
   "outputs": [],
   "source": [
    "# 단층구조 Node : 1\n",
    "LEARNING_RATE = 0.001\n",
    "RND_MEAN = 0\n",
    "Layer_node_info = [32, 32, 32]\n",
    "file_set('./Result/Relu20/%s _ ETA _ STD _ Relu _ He'%Layer_node_info)\n",
    "set_hidden(Layer_node_info)\n",
    "NUM_exec(epoch_count=1000, report=10)\n",
    "f.close()"
   ]
  },
  {
   "cell_type": "code",
   "execution_count": 12,
   "metadata": {},
   "outputs": [],
   "source": [
    "# 단층구조 Node : 1\n",
    "LEARNING_RATE = 0.001\n",
    "RND_MEAN = 0\n",
    "Layer_node_info = [64, 64, 64]\n",
    "file_set('./Result/Relu20/%s _ ETA _ STD _ Relu _ He'%Layer_node_info)\n",
    "set_hidden(Layer_node_info)\n",
    "NUM_exec(epoch_count=1000, report=10)\n",
    "f.close()"
   ]
  },
  {
   "cell_type": "code",
   "execution_count": 13,
   "metadata": {},
   "outputs": [],
   "source": [
    "# 단층구조 Node : 1\n",
    "LEARNING_RATE = 0.001\n",
    "RND_MEAN = 0\n",
    "Layer_node_info = [128, 128, 128]\n",
    "file_set('./Result/Relu20/%s _ ETA _ STD _ Relu _ He'%Layer_node_info)\n",
    "set_hidden(Layer_node_info)\n",
    "NUM_exec(epoch_count=1000, report=10)\n",
    "f.close()"
   ]
  },
  {
   "cell_type": "code",
   "execution_count": null,
   "metadata": {},
   "outputs": [],
   "source": [
    "# 단층구조 Node : 1\n",
    "LEARNING_RATE = 0.001\n",
    "RND_MEAN = 0\n",
    "Layer_node_info = [1, 1, 1, 1]\n",
    "file_set('./Result/Relu20/%s _ ETA _ STD _ Relu _ He'%Layer_node_info)\n",
    "set_hidden(Layer_node_info)\n",
    "NUM_exec(epoch_count=1000, report=10)\n",
    "f.close()"
   ]
  },
  {
   "cell_type": "code",
   "execution_count": null,
   "metadata": {},
   "outputs": [],
   "source": [
    "# 단층구조 Node : 1\n",
    "LEARNING_RATE = 0.001\n",
    "RND_MEAN = 0\n",
    "Layer_node_info = [2, 2, 2, 2]\n",
    "file_set('./Result/Relu20/%s _ ETA _ STD _ Relu _ He'%Layer_node_info)\n",
    "set_hidden(Layer_node_info)\n",
    "NUM_exec(epoch_count=1000, report=10)\n",
    "f.close()"
   ]
  },
  {
   "cell_type": "code",
   "execution_count": null,
   "metadata": {},
   "outputs": [],
   "source": [
    "# 단층구조 Node : 1\n",
    "LEARNING_RATE = 0.001\n",
    "RND_MEAN = 0\n",
    "Layer_node_info = [4, 4, 4, 4]\n",
    "file_set('./Result/Relu20/%s _ ETA _ STD _ Relu _ He'%Layer_node_info)\n",
    "set_hidden(Layer_node_info)\n",
    "NUM_exec(epoch_count=1000, report=10)\n",
    "f.close()"
   ]
  },
  {
   "cell_type": "code",
   "execution_count": 16,
   "metadata": {},
   "outputs": [],
   "source": [
    "# 단층구조 Node : 1\n",
    "LEARNING_RATE = 0.001\n",
    "RND_MEAN = 0\n",
    "Layer_node_info = [8, 8, 8, 8]\n",
    "file_set('./Result/Relu20/%s _ ETA _ STD _ Relu _ He'%Layer_node_info)\n",
    "set_hidden(Layer_node_info)\n",
    "NUM_exec(epoch_count=1000, report=10)\n",
    "f.close()"
   ]
  },
  {
   "cell_type": "code",
   "execution_count": 17,
   "metadata": {},
   "outputs": [],
   "source": [
    "# 단층구조 Node : 1\n",
    "LEARNING_RATE = 0.001\n",
    "RND_MEAN = 0\n",
    "Layer_node_info = [16, 16, 16, 16]\n",
    "file_set('./Result/Relu20/%s _ ETA _ STD _ Relu _ He'%Layer_node_info)\n",
    "set_hidden(Layer_node_info)\n",
    "NUM_exec(epoch_count=1000, report=10)\n",
    "f.close()"
   ]
  },
  {
   "cell_type": "code",
   "execution_count": 18,
   "metadata": {},
   "outputs": [],
   "source": [
    "# 단층구조 Node : 1\n",
    "LEARNING_RATE = 0.001\n",
    "RND_MEAN = 0\n",
    "Layer_node_info = [32, 32, 32, 32]\n",
    "file_set('./Result/Relu20/%s _ ETA _ STD _ Relu _ He'%Layer_node_info)\n",
    "set_hidden(Layer_node_info)\n",
    "NUM_exec(epoch_count=1000, report=10)\n",
    "f.close()"
   ]
  },
  {
   "cell_type": "code",
   "execution_count": 19,
   "metadata": {},
   "outputs": [],
   "source": [
    "# 단층구조 Node : 1\n",
    "LEARNING_RATE = 0.001\n",
    "RND_MEAN = 0\n",
    "Layer_node_info = [64, 64, 64, 64]\n",
    "file_set('./Result/Relu20/%s _ ETA _ STD _ Relu _ He'%Layer_node_info)\n",
    "set_hidden(Layer_node_info)\n",
    "NUM_exec(epoch_count=1000, report=10)\n",
    "f.close()"
   ]
  },
  {
   "cell_type": "code",
   "execution_count": 20,
   "metadata": {},
   "outputs": [],
   "source": [
    "# 단층구조 Node : 1\n",
    "LEARNING_RATE = 0.001\n",
    "RND_MEAN = 0\n",
    "Layer_node_info = [128, 64, 32, 16]\n",
    "file_set('./Result/Relu20/%s _ ETA _ STD _ Relu _ He'%Layer_node_info)\n",
    "set_hidden(Layer_node_info)\n",
    "NUM_exec(epoch_count=1000, report=10)\n",
    "f.close()"
   ]
  },
  {
   "cell_type": "code",
   "execution_count": 21,
   "metadata": {},
   "outputs": [],
   "source": [
    "# 단층구조 Node : 1\n",
    "LEARNING_RATE = 0.001\n",
    "RND_MEAN = 0\n",
    "Layer_node_info = [4, 16, 32, 64]\n",
    "file_set('./Result/Relu20/%s _ ETA _ STD _ Relu _ He'%Layer_node_info)\n",
    "set_hidden(Layer_node_info)\n",
    "NUM_exec(epoch_count=1000, report=10)\n",
    "f.close()"
   ]
  }
 ],
 "metadata": {
  "kernelspec": {
   "display_name": "My Jupyter",
   "language": "python",
   "name": "conda"
  },
  "language_info": {
   "codemirror_mode": {
    "name": "ipython",
    "version": 3
   },
   "file_extension": ".py",
   "mimetype": "text/x-python",
   "name": "python",
   "nbconvert_exporter": "python",
   "pygments_lexer": "ipython3",
   "version": "3.10.8"
  },
  "orig_nbformat": 4,
  "vscode": {
   "interpreter": {
    "hash": "46cfcddb68c68611b443db1323088e94cb0f2369a1b7d13b2027887d22e53dd5"
   }
  }
 },
 "nbformat": 4,
 "nbformat_minor": 2
}

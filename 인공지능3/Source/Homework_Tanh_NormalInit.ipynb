{
 "cells": [
  {
   "cell_type": "code",
   "execution_count": 97,
   "metadata": {},
   "outputs": [],
   "source": [
    "%run Homework.ipynb\n",
    "import sys"
   ]
  },
  {
   "cell_type": "code",
   "execution_count": 98,
   "metadata": {},
   "outputs": [],
   "source": [
    "# 활성화 함수 정의 \n",
    "def sigmoid(x):\n",
    "    return 1/1+np.exp(-x)\n",
    "\n",
    "def tanh(x):\n",
    "    return 2 * sigmoid(2*x) - 1\n",
    "\n",
    "def tanh_derv(y):\n",
    "    return 1 - np.power(tanh(y),2)"
   ]
  },
  {
   "cell_type": "code",
   "execution_count": 99,
   "metadata": {},
   "outputs": [],
   "source": [
    "# Chapter 4\n",
    "# 은닉 계층 하나를 위한 순전파 함수 정의\n",
    "def forward_neuralnet_hidden1(x):\n",
    "    # init_model_hidden1 쌍의 파라미터에 접근\n",
    "    global pm_output, pm_hidden\n",
    "    \n",
    "    #입력 x와 pm_hidden을 통해 은닉계층 출력 계산 Relu함수 사용\n",
    "    hidden = tanh(np.matmul(x, pm_hidden['w']) + pm_hidden['b'])\n",
    "    #hidden과 pm_output을 통해 출력계층 출력이자 최종출력 output 계산\n",
    "    output = np.matmul(hidden, pm_output['w']) + pm_output['b']\n",
    "    \n",
    "    #출력 계층의 역전파 처리 때 가중치에 대한 편미분 정보로 hidden이 필요함\n",
    "    return output, [x, hidden]"
   ]
  },
  {
   "cell_type": "code",
   "execution_count": 100,
   "metadata": {},
   "outputs": [],
   "source": [
    "# Chapter 4\n",
    "# 은닉 계층 하나를 위한 역전파 함수 정의\n",
    "def backprop_neuralnet_hidden1(G_output, aux):\n",
    "    # G_output은 역전파 후처리 후만들어지는 파라미터\n",
    "    global pm_output, pm_hidden\n",
    "    \n",
    "    # 순전파에 사용됐던 input\n",
    "    x, hidden = aux\n",
    "    \n",
    "    # 출력층에 대한 역전파\n",
    "    # 출력층에서 사용하는 input은 hidden \n",
    "    g_output_w_out = hidden.transpose()                      \n",
    "    G_w_out = np.matmul(g_output_w_out, G_output)            \n",
    "    G_b_out = np.sum(G_output, axis=0)    \n",
    "    \n",
    "    # 출력 계층과 은닉 계층 역전파 처리 매개하는 G_output으로부터 G_hidden을 구해내는 과정\n",
    "    g_output_hidden = pm_output['w'].transpose()\n",
    "    # pm_output['w']은 변환이 되는 계수이기 때문에 미리 기록한 것 위에 명시된 식에서 W_2\n",
    "    G_hidden = np.matmul(G_output, g_output_hidden)   \n",
    "    \n",
    "    # 출력층 역전파\n",
    "    pm_output['w'] -= LEARNING_RATE * G_w_out                \n",
    "    pm_output['b'] -= LEARNING_RATE * G_b_out                \n",
    "    \n",
    "    # 은닉층 -> relu -> 출력층 순서\n",
    "    # 역전파는 그 반대로 가야하기 때문에 Relu 부분을 처리해줘야 함 위 식에서 편미분값\n",
    "    G_hidden = G_hidden * tanh_derv(hidden)\n",
    "    \n",
    "    # 은닉층에 대한 역전파\n",
    "    # 은닉층에서 사용하는 input은 x\n",
    "    g_hidden_w_hid = x.transpose()\n",
    "    G_w_hid = np.matmul(g_hidden_w_hid, G_hidden)            \n",
    "    G_b_hid = np.sum(G_hidden, axis=0)                       \n",
    "    \n",
    "    # 은닉층 역전파\n",
    "    pm_hidden['w'] -= LEARNING_RATE * G_w_hid                \n",
    "    pm_hidden['b'] -= LEARNING_RATE * G_b_hid                "
   ]
  },
  {
   "cell_type": "code",
   "execution_count": null,
   "metadata": {},
   "outputs": [],
   "source": []
  },
  {
   "cell_type": "code",
   "execution_count": 92,
   "metadata": {},
   "outputs": [
    {
     "name": "stdout",
     "output_type": "stream",
     "text": [
      "[400, 1]\n",
      "[1, 5]\n"
     ]
    }
   ],
   "source": [
    "# 단층구조 Node : 1\n",
    "LEARNING_RATE = 0.001\n",
    "RND_MEAN = 0\n",
    "RND_STD = 0.0030\n",
    "Layer_node_info = [1]\n",
    "file_set('./Result/tanh20/%s _ ETA _ STD _ tanh _ Normal'%Layer_node_info)\n",
    "set_hidden(Layer_node_info)\n",
    "NUM_exec(epoch_count=1000, report=10)\n",
    "f.close()"
   ]
  },
  {
   "cell_type": "code",
   "execution_count": 94,
   "metadata": {},
   "outputs": [
    {
     "name": "stdout",
     "output_type": "stream",
     "text": [
      "[400, 32]\n",
      "[32, 5]\n"
     ]
    }
   ],
   "source": [
    "# 단층구조 Node : 1\n",
    "LEARNING_RATE = 0.001\n",
    "RND_MEAN = 0\n",
    "RND_STD = 0.0030\n",
    "Layer_node_info = [32]\n",
    "file_set('./Result/tanh20/%s _ ETA _ STD _ tanh _ Normal'%Layer_node_info)\n",
    "set_hidden(Layer_node_info)\n",
    "NUM_exec(epoch_count=1000, report=10)\n",
    "f.close()"
   ]
  },
  {
   "cell_type": "code",
   "execution_count": 90,
   "metadata": {},
   "outputs": [
    {
     "name": "stdout",
     "output_type": "stream",
     "text": [
      "[400, 20]\n",
      "[20, 5]\n"
     ]
    }
   ],
   "source": [
    "# 단층구조 Node : 1\n",
    "LEARNING_RATE = 0.001\n",
    "RND_MEAN = 0\n",
    "RND_STD = 0.0030 * 10 * 10\n",
    "Layer_node_info = [20]\n",
    "file_set('./Result/tanh20/%s _ ETA _ STD x 100 _ tanh _ Normal'%Layer_node_info)\n",
    "set_hidden(Layer_node_info)\n",
    "NUM_exec(epoch_count=1000, report=10)\n",
    "f.close()"
   ]
  },
  {
   "cell_type": "code",
   "execution_count": 93,
   "metadata": {},
   "outputs": [
    {
     "name": "stdout",
     "output_type": "stream",
     "text": [
      "[400, 32]\n",
      "[32, 5]\n"
     ]
    }
   ],
   "source": [
    "# 단층구조 Node : 1\n",
    "LEARNING_RATE = 0.001 * 0.1\n",
    "RND_MEAN = 0\n",
    "RND_STD = 0.0030 * 10\n",
    "Layer_node_info = [32]\n",
    "file_set('./Result/tanh20/%s _ ETA x 10 _ STD x 10 _ tanh _ Normal'%Layer_node_info)\n",
    "set_hidden(Layer_node_info)\n",
    "NUM_exec(epoch_count=1000, report=10)\n",
    "f.close()"
   ]
  },
  {
   "cell_type": "code",
   "execution_count": 95,
   "metadata": {},
   "outputs": [
    {
     "name": "stdout",
     "output_type": "stream",
     "text": [
      "[400, 32]\n",
      "[32, 5]\n"
     ]
    }
   ],
   "source": [
    "# 단층구조 Node : 1\n",
    "LEARNING_RATE = 0.001\n",
    "RND_MEAN = 0\n",
    "RND_STD = 0.0030 * 10\n",
    "Layer_node_info = [32]\n",
    "file_set('./Result/tanh20/%s _ ETA _ STD x 10 _ tanh _ Normal'%Layer_node_info)\n",
    "set_hidden(Layer_node_info)\n",
    "NUM_exec(epoch_count=1000, report=10)\n",
    "f.close()"
   ]
  },
  {
   "cell_type": "code",
   "execution_count": 101,
   "metadata": {},
   "outputs": [
    {
     "name": "stdout",
     "output_type": "stream",
     "text": [
      "[400, 32]\n",
      "[32, 5]\n"
     ]
    }
   ],
   "source": [
    "# 단층구조 Node : 1\n",
    "LEARNING_RATE = 0.001 * 0.1\n",
    "RND_MEAN = 0\n",
    "RND_STD = 0.0030 * 10\n",
    "Layer_node_info = [32]\n",
    "file_set('./Result/tanh20/%s _ ETA x 0.1 _ STD x 10 _ tanh _ Normal'%Layer_node_info)\n",
    "set_hidden(Layer_node_info)\n",
    "NUM_exec(epoch_count=1000, report=10)\n",
    "f.close()"
   ]
  },
  {
   "cell_type": "code",
   "execution_count": 102,
   "metadata": {},
   "outputs": [
    {
     "name": "stdout",
     "output_type": "stream",
     "text": [
      "[400, 128]\n",
      "[128, 5]\n"
     ]
    }
   ],
   "source": [
    "# 단층구조 Node : 1\n",
    "LEARNING_RATE = 0.001 * 0.1\n",
    "RND_MEAN = 0\n",
    "RND_STD = 0.0030 * 10\n",
    "Layer_node_info = [128]\n",
    "file_set('./Result/tanh20/%s _ ETA x 0.1 _ STD x 10 _ tanh _ Normal'%Layer_node_info)\n",
    "set_hidden(Layer_node_info)\n",
    "NUM_exec(epoch_count=1000, report=10)\n",
    "f.close()"
   ]
  },
  {
   "cell_type": "code",
   "execution_count": 87,
   "metadata": {},
   "outputs": [
    {
     "name": "stdout",
     "output_type": "stream",
     "text": [
      "[400, 400]\n",
      "[400, 5]\n"
     ]
    }
   ],
   "source": [
    "# 단층구조 Node : 1\n",
    "LEARNING_RATE = 0.001\n",
    "RND_MEAN = 0\n",
    "RND_STD = 0.0030\n",
    "Layer_node_info = [400]\n",
    "file_set('./Result/tanh20/%s _ ETA _ STD _ tanh _ Normal'%Layer_node_info)\n",
    "set_hidden(Layer_node_info)\n",
    "NUM_exec(epoch_count=1000, report=10)\n",
    "f.close()"
   ]
  },
  {
   "cell_type": "code",
   "execution_count": 36,
   "metadata": {},
   "outputs": [
    {
     "name": "stdout",
     "output_type": "stream",
     "text": [
      "[400, 2]\n",
      "[2, 2]\n",
      "[2, 5]\n"
     ]
    }
   ],
   "source": [
    "# 단층구조 Node : 1\n",
    "LEARNING_RATE = 0.001\n",
    "RND_MEAN = 0\n",
    "RND_STD = 0.0030\n",
    "Layer_node_info = [2, 2]\n",
    "file_set('./Result/tanh20/%s _ ETA _ STD _ tanh _ Normal'%Layer_node_info)\n",
    "set_hidden(Layer_node_info)\n",
    "NUM_exec(epoch_count=1000, report=10)\n",
    "f.close()"
   ]
  },
  {
   "cell_type": "code",
   "execution_count": 37,
   "metadata": {},
   "outputs": [
    {
     "name": "stdout",
     "output_type": "stream",
     "text": [
      "[400, 8]\n",
      "[8, 8]\n",
      "[8, 5]\n"
     ]
    }
   ],
   "source": [
    "# 단층구조 Node : 1\n",
    "LEARNING_RATE = 0.001\n",
    "RND_MEAN = 0\n",
    "RND_STD = 0.0030\n",
    "Layer_node_info = [8, 8]\n",
    "file_set('./Result/tanh20/%s _ ETA _ STD _ tanh _ Normal'%Layer_node_info)\n",
    "set_hidden(Layer_node_info)\n",
    "NUM_exec(epoch_count=1000, report=10)\n",
    "f.close()"
   ]
  },
  {
   "cell_type": "code",
   "execution_count": 38,
   "metadata": {},
   "outputs": [
    {
     "name": "stdout",
     "output_type": "stream",
     "text": [
      "[400, 16]\n",
      "[16, 16]\n",
      "[16, 5]\n"
     ]
    }
   ],
   "source": [
    "# 단층구조 Node : 1\n",
    "LEARNING_RATE = 0.001\n",
    "RND_MEAN = 0\n",
    "RND_STD = 0.0030\n",
    "Layer_node_info = [16, 16]\n",
    "file_set('./Result/tanh20/%s _ ETA _ STD _ tanh _ Normal'%Layer_node_info)\n",
    "set_hidden(Layer_node_info)\n",
    "NUM_exec(epoch_count=1000, report=10)\n",
    "f.close()"
   ]
  },
  {
   "cell_type": "code",
   "execution_count": 39,
   "metadata": {},
   "outputs": [
    {
     "name": "stdout",
     "output_type": "stream",
     "text": [
      "[400, 32]\n",
      "[32, 32]\n",
      "[32, 5]\n"
     ]
    }
   ],
   "source": [
    "# 단층구조 Node : 1\n",
    "LEARNING_RATE = 0.001\n",
    "RND_MEAN = 0\n",
    "RND_STD = 0.0030\n",
    "Layer_node_info = [32, 32]\n",
    "file_set('./Result/tanh20/%s _ ETA _ STD _ tanh _ Normal'%Layer_node_info)\n",
    "set_hidden(Layer_node_info)\n",
    "NUM_exec(epoch_count=1000, report=10)\n",
    "f.close()"
   ]
  },
  {
   "cell_type": "code",
   "execution_count": 40,
   "metadata": {},
   "outputs": [
    {
     "name": "stdout",
     "output_type": "stream",
     "text": [
      "[400, 64]\n",
      "[64, 64]\n",
      "[64, 5]\n"
     ]
    }
   ],
   "source": [
    "# 단층구조 Node : 1\n",
    "LEARNING_RATE = 0.001\n",
    "RND_MEAN = 0\n",
    "RND_STD = 0.0030\n",
    "Layer_node_info = [64, 64]\n",
    "file_set('./Result/tanh20/%s _ ETA _ STD _ tanh _ Normal'%Layer_node_info)\n",
    "set_hidden(Layer_node_info)\n",
    "NUM_exec(epoch_count=1000, report=10)\n",
    "f.close()"
   ]
  },
  {
   "cell_type": "code",
   "execution_count": 41,
   "metadata": {},
   "outputs": [
    {
     "name": "stdout",
     "output_type": "stream",
     "text": [
      "[400, 64]\n",
      "[64, 8]\n",
      "[8, 5]\n"
     ]
    }
   ],
   "source": [
    "# 단층구조 Node : 1\n",
    "LEARNING_RATE = 0.001\n",
    "RND_MEAN = 0\n",
    "RND_STD = 0.0030\n",
    "Layer_node_info = [64, 8]\n",
    "file_set('./Result/tanh20/%s _ ETA _ STD _ tanh _ Normal'%Layer_node_info)\n",
    "set_hidden(Layer_node_info)\n",
    "NUM_exec(epoch_count=1000, report=10)\n",
    "f.close()"
   ]
  },
  {
   "cell_type": "code",
   "execution_count": 42,
   "metadata": {},
   "outputs": [
    {
     "name": "stdout",
     "output_type": "stream",
     "text": [
      "[400, 8]\n",
      "[8, 64]\n",
      "[64, 5]\n"
     ]
    }
   ],
   "source": [
    "# 단층구조 Node : 1\n",
    "LEARNING_RATE = 0.001\n",
    "RND_MEAN = 0\n",
    "RND_STD = 0.0030\n",
    "Layer_node_info = [8, 64]\n",
    "file_set('./Result/tanh20/%s _ ETA _ STD _ tanh _ Normal'%Layer_node_info)\n",
    "set_hidden(Layer_node_info)\n",
    "NUM_exec(epoch_count=1000, report=10)\n",
    "f.close()"
   ]
  },
  {
   "cell_type": "code",
   "execution_count": 43,
   "metadata": {},
   "outputs": [
    {
     "name": "stdout",
     "output_type": "stream",
     "text": [
      "[400, 128]\n",
      "[128, 128]\n",
      "[128, 5]\n"
     ]
    }
   ],
   "source": [
    "# 단층구조 Node : 1\n",
    "LEARNING_RATE = 0.001\n",
    "RND_MEAN = 0\n",
    "RND_STD = 0.0030\n",
    "Layer_node_info = [128, 128]\n",
    "file_set('./Result/tanh20/%s _ ETA _ STD _ tanh _ Normal'%Layer_node_info)\n",
    "set_hidden(Layer_node_info)\n",
    "NUM_exec(epoch_count=1000, report=10)\n",
    "f.close()"
   ]
  },
  {
   "cell_type": "code",
   "execution_count": 44,
   "metadata": {},
   "outputs": [
    {
     "name": "stdout",
     "output_type": "stream",
     "text": [
      "[400, 256]\n",
      "[256, 8]\n",
      "[8, 5]\n"
     ]
    }
   ],
   "source": [
    "# 단층구조 Node : 1\n",
    "LEARNING_RATE = 0.001\n",
    "RND_MEAN = 0\n",
    "RND_STD = 0.0030\n",
    "Layer_node_info = [256, 8]\n",
    "file_set('./Result/tanh20/%s _ ETA _ STD _ tanh _ Normal'%Layer_node_info)\n",
    "set_hidden(Layer_node_info)\n",
    "NUM_exec(epoch_count=1000, report=10)\n",
    "f.close()"
   ]
  },
  {
   "cell_type": "code",
   "execution_count": 45,
   "metadata": {},
   "outputs": [
    {
     "name": "stdout",
     "output_type": "stream",
     "text": [
      "[400, 8]\n",
      "[8, 256]\n",
      "[256, 5]\n"
     ]
    }
   ],
   "source": [
    "# 단층구조 Node : 1\n",
    "LEARNING_RATE = 0.001\n",
    "RND_MEAN = 0\n",
    "RND_STD = 0.0030\n",
    "Layer_node_info = [8, 256]\n",
    "file_set('./Result/tanh20/%s _ ETA _ STD _ tanh _ Normal'%Layer_node_info)\n",
    "set_hidden(Layer_node_info)\n",
    "NUM_exec(epoch_count=1000, report=10)\n",
    "f.close()"
   ]
  },
  {
   "cell_type": "code",
   "execution_count": 46,
   "metadata": {},
   "outputs": [
    {
     "name": "stdout",
     "output_type": "stream",
     "text": [
      "[400, 2]\n",
      "[2, 2]\n",
      "[2, 2]\n",
      "[2, 5]\n"
     ]
    }
   ],
   "source": [
    "# 단층구조 Node : 1\n",
    "LEARNING_RATE = 0.001\n",
    "RND_MEAN = 0\n",
    "RND_STD = 0.0030\n",
    "Layer_node_info = [2, 2, 2]\n",
    "file_set('./Result/tanh20/%s _ ETA _ STD _ tanh _ Normal'%Layer_node_info)\n",
    "set_hidden(Layer_node_info)\n",
    "NUM_exec(epoch_count=1000, report=10)\n",
    "f.close()"
   ]
  },
  {
   "cell_type": "code",
   "execution_count": 47,
   "metadata": {},
   "outputs": [
    {
     "name": "stdout",
     "output_type": "stream",
     "text": [
      "[400, 4]\n",
      "[4, 4]\n",
      "[4, 4]\n",
      "[4, 5]\n"
     ]
    }
   ],
   "source": [
    "# 단층구조 Node : 1\n",
    "LEARNING_RATE = 0.001\n",
    "RND_MEAN = 0\n",
    "RND_STD = 0.0030\n",
    "Layer_node_info = [4, 4, 4]\n",
    "file_set('./Result/tanh20/%s _ ETA _ STD _ tanh _ Normal'%Layer_node_info)\n",
    "set_hidden(Layer_node_info)\n",
    "NUM_exec(epoch_count=1000, report=10)\n",
    "f.close()"
   ]
  },
  {
   "cell_type": "code",
   "execution_count": 48,
   "metadata": {},
   "outputs": [
    {
     "name": "stdout",
     "output_type": "stream",
     "text": [
      "[400, 8]\n",
      "[8, 8]\n",
      "[8, 8]\n",
      "[8, 5]\n"
     ]
    }
   ],
   "source": [
    "# 단층구조 Node : 1\n",
    "LEARNING_RATE = 0.001\n",
    "RND_MEAN = 0\n",
    "RND_STD = 0.0030\n",
    "Layer_node_info = [8, 8, 8]\n",
    "file_set('./Result/tanh20/%s _ ETA _ STD _ tanh _ Normal'%Layer_node_info)\n",
    "set_hidden(Layer_node_info)\n",
    "NUM_exec(epoch_count=1000, report=10)\n",
    "f.close()"
   ]
  },
  {
   "cell_type": "code",
   "execution_count": 49,
   "metadata": {},
   "outputs": [
    {
     "name": "stdout",
     "output_type": "stream",
     "text": [
      "[400, 16]\n",
      "[16, 16]\n",
      "[16, 16]\n",
      "[16, 5]\n"
     ]
    }
   ],
   "source": [
    "# 단층구조 Node : 1\n",
    "LEARNING_RATE = 0.001\n",
    "RND_MEAN = 0\n",
    "RND_STD = 0.0030\n",
    "Layer_node_info = [16, 16, 16]\n",
    "file_set('./Result/tanh20/%s _ ETA _ STD _ tanh _ Normal'%Layer_node_info)\n",
    "set_hidden(Layer_node_info)\n",
    "NUM_exec(epoch_count=1000, report=10)\n",
    "f.close()"
   ]
  },
  {
   "cell_type": "code",
   "execution_count": 50,
   "metadata": {},
   "outputs": [
    {
     "name": "stdout",
     "output_type": "stream",
     "text": [
      "[400, 16]\n",
      "[16, 8]\n",
      "[8, 4]\n",
      "[4, 5]\n"
     ]
    }
   ],
   "source": [
    "# 단층구조 Node : 1\n",
    "LEARNING_RATE = 0.001\n",
    "RND_MEAN = 0\n",
    "RND_STD = 0.0030\n",
    "Layer_node_info = [16, 8, 4]\n",
    "file_set('./Result/tanh20/%s _ ETA _ STD _ tanh _ Normal'%Layer_node_info)\n",
    "set_hidden(Layer_node_info)\n",
    "NUM_exec(epoch_count=1000, report=10)\n",
    "f.close()"
   ]
  },
  {
   "cell_type": "code",
   "execution_count": 62,
   "metadata": {},
   "outputs": [
    {
     "name": "stdout",
     "output_type": "stream",
     "text": [
      "[400, 2]\n",
      "[2, 2]\n",
      "[2, 2]\n",
      "[2, 2]\n",
      "[2, 5]\n"
     ]
    }
   ],
   "source": [
    "# 단층구조 Node : 1\n",
    "LEARNING_RATE = 0.001\n",
    "RND_MEAN = 0\n",
    "RND_STD = 0.0030\n",
    "Layer_node_info = [2, 2, 2, 2]\n",
    "file_set('./Result/tanh20/%s _ ETA _ STD _ tanh _ Normal'%Layer_node_info)\n",
    "set_hidden(Layer_node_info)\n",
    "NUM_exec(epoch_count=1000, report=10)\n",
    "f.close()"
   ]
  },
  {
   "cell_type": "code",
   "execution_count": 63,
   "metadata": {},
   "outputs": [
    {
     "name": "stdout",
     "output_type": "stream",
     "text": [
      "[400, 4]\n",
      "[4, 4]\n",
      "[4, 4]\n",
      "[4, 4]\n",
      "[4, 5]\n"
     ]
    }
   ],
   "source": [
    "# 단층구조 Node : 1\n",
    "LEARNING_RATE = 0.001\n",
    "RND_MEAN = 0\n",
    "RND_STD = 0.0030\n",
    "Layer_node_info = [4, 4, 4, 4]\n",
    "file_set('./Result/tanh20/%s _ ETA _ STD _ tanh _ Normal'%Layer_node_info)\n",
    "set_hidden(Layer_node_info)\n",
    "NUM_exec(epoch_count=1000, report=10)\n",
    "f.close()"
   ]
  },
  {
   "cell_type": "code",
   "execution_count": 64,
   "metadata": {},
   "outputs": [
    {
     "name": "stdout",
     "output_type": "stream",
     "text": [
      "[400, 8]\n",
      "[8, 8]\n",
      "[8, 8]\n",
      "[8, 8]\n",
      "[8, 5]\n"
     ]
    }
   ],
   "source": [
    "# 단층구조 Node : 1\n",
    "LEARNING_RATE = 0.001\n",
    "RND_MEAN = 0\n",
    "RND_STD = 0.0030\n",
    "Layer_node_info = [8, 8, 8, 8]\n",
    "file_set('./Result/tanh20/%s _ ETA _ STD _ tanh _ Normal'%Layer_node_info)\n",
    "set_hidden(Layer_node_info)\n",
    "NUM_exec(epoch_count=1000, report=10)\n",
    "f.close()"
   ]
  },
  {
   "cell_type": "code",
   "execution_count": 65,
   "metadata": {},
   "outputs": [
    {
     "name": "stdout",
     "output_type": "stream",
     "text": [
      "[400, 16]\n",
      "[16, 8]\n",
      "[8, 4]\n",
      "[4, 2]\n",
      "[2, 5]\n"
     ]
    }
   ],
   "source": [
    "# 단층구조 Node : 1\n",
    "LEARNING_RATE = 0.001\n",
    "RND_MEAN = 0\n",
    "RND_STD = 0.0030\n",
    "Layer_node_info = [16, 8, 4, 2]\n",
    "file_set('./Result/tanh20/%s _ ETA _ STD _ tanh _ Normal'%Layer_node_info)\n",
    "set_hidden(Layer_node_info)\n",
    "NUM_exec(epoch_count=1000, report=10)\n",
    "f.close()"
   ]
  },
  {
   "cell_type": "code",
   "execution_count": 66,
   "metadata": {},
   "outputs": [
    {
     "name": "stdout",
     "output_type": "stream",
     "text": [
      "[400, 2]\n",
      "[2, 4]\n",
      "[4, 8]\n",
      "[8, 16]\n",
      "[16, 5]\n"
     ]
    }
   ],
   "source": [
    "# 단층구조 Node : 1\n",
    "LEARNING_RATE = 0.001\n",
    "RND_MEAN = 0\n",
    "RND_STD = 0.0030\n",
    "Layer_node_info = [2, 4, 8, 16]\n",
    "file_set('./Result/tanh20/%s _ ETA _ STD _ tanh _ Normal'%Layer_node_info)\n",
    "set_hidden(Layer_node_info)\n",
    "NUM_exec(epoch_count=1000, report=10)\n",
    "f.close()"
   ]
  },
  {
   "cell_type": "code",
   "execution_count": 67,
   "metadata": {},
   "outputs": [
    {
     "name": "stdout",
     "output_type": "stream",
     "text": [
      "[400, 2]\n",
      "[2, 5]\n"
     ]
    }
   ],
   "source": [
    "# 단층구조 Node : 1\n",
    "LEARNING_RATE = 0.001\n",
    "RND_MEAN = 0\n",
    "RND_STD = 0.0030\n",
    "Layer_node_info = [2]\n",
    "file_set('./Result/tanh20/%s _ ETA _ STD _ tanh _ Normal'%Layer_node_info)\n",
    "set_hidden(Layer_node_info)\n",
    "NUM_exec(epoch_count=1000, report=10)\n",
    "f.close()"
   ]
  },
  {
   "cell_type": "code",
   "execution_count": 68,
   "metadata": {},
   "outputs": [
    {
     "name": "stdout",
     "output_type": "stream",
     "text": [
      "[400, 4]\n",
      "[4, 5]\n"
     ]
    }
   ],
   "source": [
    "# 단층구조 Node : 1\n",
    "LEARNING_RATE = 0.001\n",
    "RND_MEAN = 0\n",
    "RND_STD = 0.0030\n",
    "Layer_node_info = [4]\n",
    "file_set('./Result/tanh20/%s _ ETA _ STD _ tanh _ Normal'%Layer_node_info)\n",
    "set_hidden(Layer_node_info)\n",
    "NUM_exec(epoch_count=1000, report=10)\n",
    "f.close()"
   ]
  },
  {
   "cell_type": "code",
   "execution_count": 69,
   "metadata": {},
   "outputs": [
    {
     "name": "stdout",
     "output_type": "stream",
     "text": [
      "[400, 8]\n",
      "[8, 5]\n"
     ]
    }
   ],
   "source": [
    "# 단층구조 Node : 1\n",
    "LEARNING_RATE = 0.001\n",
    "RND_MEAN = 0\n",
    "RND_STD = 0.0030\n",
    "Layer_node_info = [8]\n",
    "file_set('./Result/tanh20/%s _ ETA _ STD _ tanh _ Normal'%Layer_node_info)\n",
    "set_hidden(Layer_node_info)\n",
    "NUM_exec(epoch_count=1000, report=10)\n",
    "f.close()"
   ]
  },
  {
   "cell_type": "code",
   "execution_count": 70,
   "metadata": {},
   "outputs": [
    {
     "name": "stdout",
     "output_type": "stream",
     "text": [
      "[400, 16]\n",
      "[16, 5]\n"
     ]
    }
   ],
   "source": [
    "# 단층구조 Node : 1\n",
    "LEARNING_RATE = 0.001\n",
    "RND_MEAN = 0\n",
    "RND_STD = 0.0030\n",
    "Layer_node_info = [16]\n",
    "file_set('./Result/tanh20/%s _ ETA _ STD _ tanh _ Normal'%Layer_node_info)\n",
    "set_hidden(Layer_node_info)\n",
    "NUM_exec(epoch_count=1000, report=10)\n",
    "f.close()"
   ]
  },
  {
   "cell_type": "code",
   "execution_count": 71,
   "metadata": {},
   "outputs": [
    {
     "name": "stdout",
     "output_type": "stream",
     "text": [
      "[400, 32]\n",
      "[32, 5]\n"
     ]
    }
   ],
   "source": [
    "# 단층구조 Node : 1\n",
    "LEARNING_RATE = 0.001\n",
    "RND_MEAN = 0\n",
    "RND_STD = 0.0030\n",
    "Layer_node_info = [32]\n",
    "file_set('./Result/tanh20/%s _ ETA _ STD _ tanh _ Normal'%Layer_node_info)\n",
    "set_hidden(Layer_node_info)\n",
    "NUM_exec(epoch_count=1000, report=10)\n",
    "f.close()"
   ]
  },
  {
   "cell_type": "code",
   "execution_count": 72,
   "metadata": {},
   "outputs": [
    {
     "name": "stdout",
     "output_type": "stream",
     "text": [
      "[400, 64]\n",
      "[64, 5]\n"
     ]
    }
   ],
   "source": [
    "# 단층구조 Node : 1\n",
    "LEARNING_RATE = 0.001\n",
    "RND_MEAN = 0\n",
    "RND_STD = 0.0030\n",
    "Layer_node_info = [64]\n",
    "file_set('./Result/tanh20/%s _ ETA _ STD _ tanh _ Normal'%Layer_node_info)\n",
    "set_hidden(Layer_node_info)\n",
    "NUM_exec(epoch_count=1000, report=10)\n",
    "f.close()"
   ]
  },
  {
   "cell_type": "code",
   "execution_count": 80,
   "metadata": {},
   "outputs": [
    {
     "name": "stdout",
     "output_type": "stream",
     "text": [
      "[400, 128]\n",
      "[128, 128]\n",
      "[128, 5]\n"
     ]
    }
   ],
   "source": [
    "# 단층구조 Node : 1\n",
    "LEARNING_RATE = 0.001\n",
    "RND_MEAN = 0\n",
    "RND_STD = 0.0030\n",
    "Layer_node_info = [128,128]\n",
    "file_set('./Result/tanh20/%s _ ETA _ STD _ tanh _ Normal'%Layer_node_info)\n",
    "set_hidden(Layer_node_info)\n",
    "NUM_exec(epoch_count=1000, report=10)\n",
    "f.close()"
   ]
  },
  {
   "cell_type": "code",
   "execution_count": null,
   "metadata": {},
   "outputs": [],
   "source": []
  }
 ],
 "metadata": {
  "kernelspec": {
   "display_name": "My Jupyter",
   "language": "python",
   "name": "conda"
  },
  "language_info": {
   "codemirror_mode": {
    "name": "ipython",
    "version": 3
   },
   "file_extension": ".py",
   "mimetype": "text/x-python",
   "name": "python",
   "nbconvert_exporter": "python",
   "pygments_lexer": "ipython3",
   "version": "3.10.8"
  },
  "orig_nbformat": 4,
  "vscode": {
   "interpreter": {
    "hash": "46cfcddb68c68611b443db1323088e94cb0f2369a1b7d13b2027887d22e53dd5"
   }
  }
 },
 "nbformat": 4,
 "nbformat_minor": 2
}

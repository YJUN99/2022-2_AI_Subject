{
 "cells": [
  {
   "cell_type": "code",
   "execution_count": 91,
   "metadata": {},
   "outputs": [],
   "source": [
    "%run Homework.ipynb"
   ]
  },
  {
   "cell_type": "markdown",
   "metadata": {},
   "source": [
    "##### 단층구조"
   ]
  },
  {
   "cell_type": "code",
   "execution_count": null,
   "metadata": {},
   "outputs": [],
   "source": [
    "# 단층구조 Node : 1\n",
    "LEARNING_RATE = 0.001\n",
    "RND_MEAN = 0\n",
    "RND_STD = 0.0030\n",
    "Layer_node_info = [1]\n",
    "file_set('./Result/Relu20/%s _ ETA _ STD _ Relu _ Normal'%Layer_node_info)\n",
    "set_hidden(Layer_node_info)\n",
    "NUM_exec(epoch_count=1000, report=10)\n",
    "f.close()"
   ]
  },
  {
   "cell_type": "code",
   "execution_count": null,
   "metadata": {},
   "outputs": [],
   "source": [
    "# 단층구조 Node : 20\n",
    "LEARNING_RATE = 0.001\n",
    "RND_MEAN = 0     \n",
    "RND_STD = 0.0030\n",
    "Layer_node_info = [20]\n",
    "file_set('./Result/Relu20/%s _ ETA _ STD _ Relu _ Normal'%Layer_node_info)\n",
    "set_hidden(Layer_node_info)\n",
    "NUM_exec(epoch_count=1000, report=10)"
   ]
  },
  {
   "cell_type": "code",
   "execution_count": 77,
   "metadata": {},
   "outputs": [
    {
     "name": "stdout",
     "output_type": "stream",
     "text": [
      "[400, 32]\n",
      "[32, 5]\n"
     ]
    }
   ],
   "source": [
    "# 단층구조 Node : 20\n",
    "LEARNING_RATE = 0.001 * 0.1\n",
    "RND_MEAN = 0     \n",
    "RND_STD = 0.0030 * 10\n",
    "Layer_node_info = [32]\n",
    "file_set('./Result/Relu20/%s _ ETA x 0.1 _ STD x 10 _ Relu _ Normal'%Layer_node_info)\n",
    "set_hidden(Layer_node_info)\n",
    "NUM_exec(epoch_count=1000, report=10)"
   ]
  },
  {
   "cell_type": "code",
   "execution_count": null,
   "metadata": {},
   "outputs": [],
   "source": [
    "# 단층구조 Node : 400\n",
    "LEARNING_RATE = 0.001\n",
    "RND_MEAN = 0 \n",
    "RND_STD = 0.0030\n",
    "Layer_node_info = [400]\n",
    "file_set('./Result/Relu20/%s _ ETA _ STD _ Relu _ Normal'%Layer_node_info)\n",
    "set_hidden(Layer_node_info)\n",
    "NUM_exec(epoch_count=1000, report=10)"
   ]
  },
  {
   "cell_type": "markdown",
   "metadata": {},
   "source": [
    "---\n",
    "다층구조"
   ]
  },
  {
   "cell_type": "code",
   "execution_count": null,
   "metadata": {},
   "outputs": [],
   "source": [
    "# 다층 구조 H_Layer 2 , Node : 1\n",
    "LEARNING_RATE = 0.001\n",
    "RND_MEAN = 0 \n",
    "RND_STD = 0.0030\n",
    "Layer_node_info = [1, 1]\n",
    "file_set('./Result/Relu20/%s _ ETA _ STD _ Relu _ Normal'%Layer_node_info)\n",
    "set_hidden(Layer_node_info)\n",
    "NUM_exec(epoch_count=1000, report=10)"
   ]
  },
  {
   "cell_type": "code",
   "execution_count": 80,
   "metadata": {},
   "outputs": [
    {
     "name": "stdout",
     "output_type": "stream",
     "text": [
      "[400, 2]\n",
      "[2, 2]\n",
      "[2, 5]\n"
     ]
    }
   ],
   "source": [
    "# 다층 구조 H_Layer 2 , Node : [2, 2]\n",
    "LEARNING_RATE = 0.001\n",
    "RND_MEAN = 0 \n",
    "RND_STD = 0.0030\n",
    "Layer_node_info = [2, 2]\n",
    "file_set('./Result/Relu20/%s _ ETA _ STD _ Relu _ Normal'%Layer_node_info)\n",
    "set_hidden(Layer_node_info)\n",
    "NUM_exec(epoch_count=1000, report=10)"
   ]
  },
  {
   "cell_type": "code",
   "execution_count": null,
   "metadata": {},
   "outputs": [],
   "source": [
    "# 다층 구조 H_Layer 2 , Node : [4, 4]\n",
    "LEARNING_RATE = 0.001\n",
    "RND_MEAN = 0 \n",
    "RND_STD = 0.0030\n",
    "Layer_node_info = [4, 4]\n",
    "file_set('./Result/Relu20/%s _ ETA _ STD _ Relu _ Normal'%Layer_node_info)\n",
    "set_hidden(Layer_node_info)\n",
    "NUM_exec(epoch_count=1000, report=10)"
   ]
  },
  {
   "cell_type": "code",
   "execution_count": 78,
   "metadata": {},
   "outputs": [
    {
     "name": "stdout",
     "output_type": "stream",
     "text": [
      "[400, 8]\n",
      "[8, 8]\n",
      "[8, 5]\n"
     ]
    }
   ],
   "source": [
    "# 다층 구조 H_Layer 2 , Node : [8, 8]\n",
    "LEARNING_RATE = 0.001\n",
    "RND_MEAN = 0 \n",
    "RND_STD = 0.0030\n",
    "Layer_node_info = [8, 8]\n",
    "file_set('./Result/Relu20/%s _ ETA _ STD _ Relu _ Normal'%Layer_node_info)\n",
    "set_hidden(Layer_node_info)\n",
    "NUM_exec(epoch_count=1000, report=10)"
   ]
  },
  {
   "cell_type": "code",
   "execution_count": 79,
   "metadata": {},
   "outputs": [
    {
     "name": "stdout",
     "output_type": "stream",
     "text": [
      "[400, 16]\n",
      "[16, 16]\n",
      "[16, 5]\n"
     ]
    }
   ],
   "source": [
    "# 다층 구조 H_Layer 2 , Node : [16, 16]\n",
    "LEARNING_RATE = 0.001\n",
    "RND_MEAN = 0 \n",
    "RND_STD = 0.0030\n",
    "Layer_node_info = [16, 16]\n",
    "file_set('./Result/Relu20/%s _ ETA _ STD _ Relu _ Normal'%Layer_node_info)\n",
    "set_hidden(Layer_node_info)\n",
    "NUM_exec(epoch_count=1000, report=10)"
   ]
  },
  {
   "cell_type": "code",
   "execution_count": 83,
   "metadata": {},
   "outputs": [
    {
     "name": "stdout",
     "output_type": "stream",
     "text": [
      "[400, 32]\n",
      "[32, 32]\n",
      "[32, 5]\n"
     ]
    }
   ],
   "source": [
    "# 다층 구조 H_Layer 2 , Node : [15, 5]\n",
    "LEARNING_RATE = 0.001\n",
    "RND_MEAN = 0 \n",
    "RND_STD = 0.0030\n",
    "Layer_node_info = [32, 32]\n",
    "file_set('./Result/Relu20/%s _ ETA _ STD _ Relu _ Normal _ (1)'%Layer_node_info)\n",
    "set_hidden(Layer_node_info)\n",
    "NUM_exec(epoch_count=1000, report=10)"
   ]
  },
  {
   "cell_type": "code",
   "execution_count": 92,
   "metadata": {},
   "outputs": [
    {
     "name": "stdout",
     "output_type": "stream",
     "text": [
      "[400, 128]\n",
      "[128, 128]\n",
      "[128, 5]\n"
     ]
    }
   ],
   "source": [
    "# 다층 구조 H_Layer 2 , Node : [30, 5]\n",
    "LEARNING_RATE = 0.001\n",
    "RND_MEAN = 0 \n",
    "RND_STD = 0.0030\n",
    "Layer_node_info = [128, 128]\n",
    "file_set('./Result/Relu20/%s _ ETA _ STD _ Relu _ Normal'%Layer_node_info)\n",
    "set_hidden(Layer_node_info)\n",
    "NUM_exec(epoch_count=1000, report=10)"
   ]
  },
  {
   "cell_type": "code",
   "execution_count": null,
   "metadata": {},
   "outputs": [],
   "source": [
    "# 다층 구조 H_Layer 2 , Node : [32, 32]\n",
    "LEARNING_RATE = 0.001\n",
    "RND_MEAN = 0 \n",
    "RND_STD = 0.0030\n",
    "Layer_node_info = [32, 32]\n",
    "file_set('./Result/Relu20/%s _ ETA _ STD _ Relu _ Normal'%Layer_node_info)\n",
    "set_hidden(Layer_node_info)\n",
    "NUM_exec(epoch_count=1000, report=10)"
   ]
  },
  {
   "cell_type": "code",
   "execution_count": null,
   "metadata": {},
   "outputs": [],
   "source": [
    "# 다층 구조 H_Layer 2 , Node : [64, 64]\n",
    "LEARNING_RATE = 0.001\n",
    "RND_MEAN = 0 \n",
    "RND_STD = 0.0030\n",
    "Layer_node_info = [64, 64]\n",
    "file_set('./Result/Relu20/%s _ ETA _ STD _ Relu _ Normal'%Layer_node_info)\n",
    "set_hidden(Layer_node_info)\n",
    "NUM_exec(epoch_count=1000, report=10)"
   ]
  },
  {
   "cell_type": "code",
   "execution_count": null,
   "metadata": {},
   "outputs": [],
   "source": [
    "# 다층 구조 H_Layer 2 , Node : [64, 8]\n",
    "LEARNING_RATE = 0.001\n",
    "RND_MEAN = 0 \n",
    "RND_STD = 0.0030\n",
    "Layer_node_info = [64, 8]\n",
    "file_set('./Result/Relu20/%s _ ETA _ STD _ Relu _ Normal'%Layer_node_info)\n",
    "set_hidden(Layer_node_info)\n",
    "NUM_exec(epoch_count=1000, report=10)"
   ]
  },
  {
   "cell_type": "code",
   "execution_count": null,
   "metadata": {},
   "outputs": [],
   "source": [
    "# 다층 구조 H_Layer 2 , Node : [8, 64]\n",
    "LEARNING_RATE = 0.001\n",
    "RND_MEAN = 0 \n",
    "RND_STD = 0.0030\n",
    "Layer_node_info = [8, 84]\n",
    "file_set('./Result/Relu20/%s _ ETA _ STD _ Relu _ Normal'%Layer_node_info)\n",
    "set_hidden(Layer_node_info)\n",
    "NUM_exec(epoch_count=1000, report=10)"
   ]
  },
  {
   "cell_type": "code",
   "execution_count": null,
   "metadata": {},
   "outputs": [],
   "source": [
    "# 다층 구조 H_Layer 2 , Node : [128, 128]\n",
    "LEARNING_RATE = 0.001\n",
    "RND_MEAN = 0 \n",
    "Layer_node_info = [128, 128]\n",
    "file_set('./Result/Relu20/%s _ ETA _ STD _ Relu _ Normal'%Layer_node_info)\n",
    "set_hidden(Layer_node_info)\n",
    "NUM_exec(epoch_count=1000, report=10)"
   ]
  },
  {
   "cell_type": "code",
   "execution_count": null,
   "metadata": {},
   "outputs": [],
   "source": [
    "# 다층 구조 H_Layer 2 , Node : [128, 128]\n",
    "LEARNING_RATE = 0.001\n",
    "RND_MEAN = 0 \n",
    "Layer_node_info = [128, 8]\n",
    "file_set('./Result/Relu20/%s _ ETA _ STD _ Relu _ Normal'%Layer_node_info)\n",
    "set_hidden(Layer_node_info)\n",
    "NUM_exec(epoch_count=1000, report=10)"
   ]
  },
  {
   "cell_type": "code",
   "execution_count": null,
   "metadata": {},
   "outputs": [],
   "source": [
    "# 다층 구조 H_Layer 2 , Node : [128, 128]\n",
    "LEARNING_RATE = 0.001\n",
    "RND_MEAN = 0 \n",
    "Layer_node_info = [8, 128]\n",
    "file_set('./Result/Relu20/%s _ ETA _ STD _ Relu _ Normal'%Layer_node_info)\n",
    "set_hidden(Layer_node_info)\n",
    "NUM_exec(epoch_count=1000, report=10)"
   ]
  },
  {
   "cell_type": "code",
   "execution_count": null,
   "metadata": {},
   "outputs": [],
   "source": [
    "# 다층 구조 H_Layer 2 , Node : [256, 256]\n",
    "LEARNING_RATE = 0.001\n",
    "RND_MEAN = 0 \n",
    "Layer_node_info = [256, 256]\n",
    "file_set('./Result/Relu20/%s _ ETA _ STD _ Relu _ Normal'%Layer_node_info)\n",
    "set_hidden(Layer_node_info)\n",
    "NUM_exec(epoch_count=1000, report=10)"
   ]
  },
  {
   "cell_type": "code",
   "execution_count": null,
   "metadata": {},
   "outputs": [],
   "source": [
    "# 다층 구조 H_Layer 3 , Node : [1, 1, 1]\n",
    "LEARNING_RATE = 0.001\n",
    "RND_MEAN = 0 \n",
    "RND_STD = 0.0030\n",
    "Layer_node_info = [1, 1, 1]\n",
    "file_set('./Result/Relu20/%s _ ETA _ STD _ Relu _ Normal'%Layer_node_info)\n",
    "set_hidden(Layer_node_info)\n",
    "NUM_exec(epoch_count=1000, report=10)"
   ]
  },
  {
   "cell_type": "code",
   "execution_count": null,
   "metadata": {},
   "outputs": [],
   "source": [
    "# 다층 구조 H_Layer 3 , Node : [2, 2, 2]\n",
    "LEARNING_RATE = 0.001\n",
    "RND_MEAN = 0 \n",
    "RND_STD = 0.0030\n",
    "Layer_node_info = [2, 2, 2]\n",
    "file_set('./Result/Relu20/%s _ ETA _ STD _ Relu _ Normal'%Layer_node_info)\n",
    "set_hidden(Layer_node_info)\n",
    "NUM_exec(epoch_count=1000, report=10)"
   ]
  },
  {
   "cell_type": "code",
   "execution_count": null,
   "metadata": {},
   "outputs": [],
   "source": [
    "# 다층 구조 H_Layer 3 , Node : [4, 4, 4]\n",
    "LEARNING_RATE = 0.001\n",
    "RND_MEAN = 0 \n",
    "RND_STD = 0.0030\n",
    "Layer_node_info = [4, 4, 4]\n",
    "file_set('./Result/Relu20/%s _ ETA _ STD _ Relu _ Normal'%Layer_node_info)\n",
    "set_hidden(Layer_node_info)\n",
    "NUM_exec(epoch_count=1000, report=10)"
   ]
  },
  {
   "cell_type": "code",
   "execution_count": 85,
   "metadata": {},
   "outputs": [
    {
     "name": "stdout",
     "output_type": "stream",
     "text": [
      "[400, 8]\n",
      "[8, 8]\n",
      "[8, 8]\n",
      "[8, 5]\n"
     ]
    }
   ],
   "source": [
    "# 다층 구조 H_Layer 3 , Node : [8, 8, 8]\n",
    "LEARNING_RATE = 0.001\n",
    "RND_MEAN = 0 \n",
    "RND_STD = 0.0030\n",
    "Layer_node_info = [8, 8, 8]\n",
    "file_set('./Result/Relu20/%s _ ETA _ STD _ Relu _ Normal'%Layer_node_info)\n",
    "set_hidden(Layer_node_info)\n",
    "NUM_exec(epoch_count=1000, report=10)"
   ]
  },
  {
   "cell_type": "code",
   "execution_count": 88,
   "metadata": {},
   "outputs": [
    {
     "name": "stdout",
     "output_type": "stream",
     "text": [
      "[400, 32]\n",
      "[32, 32]\n",
      "[32, 32]\n",
      "[32, 5]\n"
     ]
    }
   ],
   "source": [
    "# 다층 구조 H_Layer 3 , Node : [8, 8, 8]\n",
    "LEARNING_RATE = 0.001 * 0.1\n",
    "RND_MEAN = 0 \n",
    "RND_STD = 0.0030 * 10\n",
    "Layer_node_info = [32, 32, 32]\n",
    "file_set('./Result/Relu20/%s _ ETA x 0.1 _ STD x 10_ Relu _ Normal'%Layer_node_info)\n",
    "set_hidden(Layer_node_info)\n",
    "NUM_exec(epoch_count=1000, report=10)"
   ]
  },
  {
   "cell_type": "code",
   "execution_count": 89,
   "metadata": {},
   "outputs": [
    {
     "name": "stdout",
     "output_type": "stream",
     "text": [
      "[400, 64]\n",
      "[64, 64]\n",
      "[64, 64]\n",
      "[64, 5]\n"
     ]
    }
   ],
   "source": [
    "# 다층 구조 H_Layer 3 , Node : [8, 8, 8]\n",
    "LEARNING_RATE = 0.001 * 0.1\n",
    "RND_MEAN = 0 \n",
    "RND_STD = 0.0030 * 10\n",
    "Layer_node_info = [64, 64, 64]\n",
    "file_set('./Result/Relu20/%s _ ETA x 0.1 _ STD x 10_ Relu _ Normal'%Layer_node_info)\n",
    "set_hidden(Layer_node_info)\n",
    "NUM_exec(epoch_count=1000, report=10)"
   ]
  },
  {
   "cell_type": "code",
   "execution_count": 90,
   "metadata": {},
   "outputs": [
    {
     "name": "stdout",
     "output_type": "stream",
     "text": [
      "[400, 32]\n",
      "[32, 16]\n",
      "[16, 8]\n",
      "[8, 5]\n"
     ]
    }
   ],
   "source": [
    "# 다층 구조 H_Layer 3 , Node : [8, 8, 8]\n",
    "LEARNING_RATE = 0.001 * 0.1\n",
    "RND_MEAN = 0 \n",
    "RND_STD = 0.0030 * 10\n",
    "Layer_node_info = [32, 16, 8]\n",
    "file_set('./Result/Relu20/%s _ ETA x 0.1 _ STD x 10_ Relu _ Normal'%Layer_node_info)\n",
    "set_hidden(Layer_node_info)\n",
    "NUM_exec(epoch_count=1000, report=10)"
   ]
  },
  {
   "cell_type": "code",
   "execution_count": null,
   "metadata": {},
   "outputs": [],
   "source": [
    "# 다층 구조 H_Layer 3 , Node : [16, 16, 16]\n",
    "LEARNING_RATE = 0.001\n",
    "RND_MEAN = 0 \n",
    "RND_STD = 0.0030\n",
    "Layer_node_info = [16, 16, 16]\n",
    "file_set('./Result/Relu20/%s _ ETA _ STD _ Relu _ Normal'%Layer_node_info)\n",
    "set_hidden(Layer_node_info)\n",
    "NUM_exec(epoch_count=1000, report=10)"
   ]
  },
  {
   "cell_type": "code",
   "execution_count": null,
   "metadata": {},
   "outputs": [],
   "source": [
    "# 다층 구조 H_Layer 3 , Node : [32, 32, 32]\n",
    "LEARNING_RATE = 0.001\n",
    "RND_MEAN = 0 \n",
    "RND_STD = 0.0030\n",
    "Layer_node_info = [32, 32, 32]\n",
    "file_set('./Result/Relu20/%s _ ETA _ STD _ Relu _ Normal'%Layer_node_info)\n",
    "set_hidden(Layer_node_info)\n",
    "NUM_exec(epoch_count=1000, report=10)"
   ]
  },
  {
   "cell_type": "code",
   "execution_count": null,
   "metadata": {},
   "outputs": [],
   "source": [
    "# 다층 구조 H_Layer 3 , Node : [64, 64, 64]\n",
    "LEARNING_RATE = 0.001\n",
    "RND_MEAN = 0 \n",
    "RND_STD = 0.0030\n",
    "Layer_node_info = [64, 64, 64]\n",
    "file_set('./Result/Relu20/%s _ ETA _ STD _ Relu _ Normal'%Layer_node_info)\n",
    "set_hidden(Layer_node_info)\n",
    "NUM_exec(epoch_count=1000, report=10)"
   ]
  },
  {
   "cell_type": "code",
   "execution_count": null,
   "metadata": {},
   "outputs": [],
   "source": [
    "# 다층 구조 H_Layer 3 , Node : [64, 16, 4]\n",
    "LEARNING_RATE = 0.001\n",
    "RND_MEAN = 0 \n",
    "RND_STD = 0.0030\n",
    "Layer_node_info = [64, 16, 4]\n",
    "file_set('./Result/Relu20/%s _ ETA _ STD _ Relu _ Normal'%Layer_node_info)\n",
    "set_hidden(Layer_node_info)\n",
    "NUM_exec(epoch_count=1000, report=10)"
   ]
  },
  {
   "cell_type": "code",
   "execution_count": null,
   "metadata": {},
   "outputs": [],
   "source": [
    "# 다층 구조 H_Layer 3 , Node : [4, 16, 64]\n",
    "LEARNING_RATE = 0.001\n",
    "RND_MEAN = 0 \n",
    "RND_STD = 0.0030\n",
    "Layer_node_info = [4, 16, 64]\n",
    "file_set('./Result/Relu20/%s _ ETA _ STD _ Relu _ Normal'%Layer_node_info)\n",
    "set_hidden(Layer_node_info)\n",
    "NUM_exec(epoch_count=1000, report=10)"
   ]
  },
  {
   "cell_type": "code",
   "execution_count": null,
   "metadata": {},
   "outputs": [],
   "source": [
    "# 다층 구조 H_Layer 3 , Node : [128, 64, 8]\n",
    "LEARNING_RATE = 0.001\n",
    "RND_MEAN = 0 \n",
    "RND_STD = 0.0030\n",
    "Layer_node_info = [128, 64, 8]\n",
    "file_set('./Result/Relu20/%s _ ETA _ STD _ Relu _ Normal'%Layer_node_info)\n",
    "set_hidden(Layer_node_info)\n",
    "NUM_exec(epoch_count=1000, report=10)"
   ]
  },
  {
   "cell_type": "code",
   "execution_count": null,
   "metadata": {},
   "outputs": [],
   "source": [
    "# 다층 구조 H_Layer 4 , Node : [1, 1, 1, 1]\n",
    "LEARNING_RATE = 0.001\n",
    "RND_MEAN = 0 \n",
    "RND_STD = 0.0030\n",
    "Layer_node_info = [1, 1, 1, 1]\n",
    "file_set('./Result/Relu20/%s _ ETA _ STD _ Relu _ Normal'%Layer_node_info)\n",
    "set_hidden(Layer_node_info)\n",
    "NUM_exec(epoch_count=1000, report=10)"
   ]
  },
  {
   "cell_type": "code",
   "execution_count": null,
   "metadata": {},
   "outputs": [],
   "source": [
    "# 다층 구조 H_Layer 4 , Node : [2, 2, 2, 2]\n",
    "LEARNING_RATE = 0.001\n",
    "RND_MEAN = 0 \n",
    "RND_STD = 0.0030\n",
    "Layer_node_info = [2, 2, 2, 2]\n",
    "file_set('./Result/Relu20/%s _ ETA _ STD _ Relu _ Normal'%Layer_node_info)\n",
    "set_hidden(Layer_node_info)\n",
    "NUM_exec(epoch_count=1000, report=10)"
   ]
  },
  {
   "cell_type": "code",
   "execution_count": null,
   "metadata": {},
   "outputs": [],
   "source": [
    "# 다층 구조 H_Layer 4 , Node : [4, 4, 4, 4]\n",
    "LEARNING_RATE = 0.001\n",
    "RND_MEAN = 0 \n",
    "RND_STD = 0.0030\n",
    "Layer_node_info = [4, 4, 4, 4]\n",
    "file_set('./Result/Relu20/%s _ ETA _ STD _ Relu _ Normal'%Layer_node_info)\n",
    "set_hidden(Layer_node_info)\n",
    "NUM_exec(epoch_count=1000, report=10)"
   ]
  },
  {
   "cell_type": "code",
   "execution_count": null,
   "metadata": {},
   "outputs": [],
   "source": [
    "# 다층 구조 H_Layer 4 , Node : [8, 8, 8, 8]\n",
    "LEARNING_RATE = 0.001\n",
    "RND_MEAN = 0 \n",
    "RND_STD = 0.0030\n",
    "Layer_node_info = [8, 8, 8, 8]\n",
    "file_set('./Result/Relu20/%s _ ETA _ STD _ Relu _ Normal'%Layer_node_info)\n",
    "set_hidden(Layer_node_info)\n",
    "NUM_exec(epoch_count=1000, report=10)"
   ]
  },
  {
   "cell_type": "code",
   "execution_count": null,
   "metadata": {},
   "outputs": [],
   "source": [
    "# 다층 구조 H_Layer 4 , Node : [16, 16, 16, 16]\n",
    "LEARNING_RATE = 0.001\n",
    "RND_MEAN = 0 \n",
    "RND_STD = 0.0030\n",
    "Layer_node_info = [16, 16, 16, 16]\n",
    "file_set('./Result/Relu20/%s _ ETA _ STD _ Relu _ Normal'%Layer_node_info)\n",
    "set_hidden(Layer_node_info)\n",
    "NUM_exec(epoch_count=1000, report=10)"
   ]
  },
  {
   "cell_type": "code",
   "execution_count": null,
   "metadata": {},
   "outputs": [],
   "source": [
    "# 다층 구조 H_Layer 4 , Node : [16, 8, 4, 2]\n",
    "LEARNING_RATE = 0.001\n",
    "RND_MEAN = 0 \n",
    "RND_STD = 0.0030\n",
    "Layer_node_info = [16, 8, 4, 2]\n",
    "file_set('./Result/Relu20/%s _ ETA _ STD _ Relu _ Normal'%Layer_node_info)\n",
    "set_hidden(Layer_node_info)\n",
    "NUM_exec(epoch_count=1000, report=10)"
   ]
  },
  {
   "cell_type": "code",
   "execution_count": null,
   "metadata": {},
   "outputs": [],
   "source": [
    "# 다층 구조 H_Layer 4 , Node : [2, 4, 8, 16]\n",
    "LEARNING_RATE = 0.001\n",
    "RND_MEAN = 0 \n",
    "RND_STD = 0.0030\n",
    "Layer_node_info = [2, 4, 8, 16]\n",
    "file_set('./Result/Relu20/%s _ ETA _ STD _ Relu _ Normal'%Layer_node_info)\n",
    "set_hidden(Layer_node_info)\n",
    "NUM_exec(epoch_count=1000, report=10)"
   ]
  },
  {
   "cell_type": "code",
   "execution_count": 93,
   "metadata": {},
   "outputs": [
    {
     "name": "stdout",
     "output_type": "stream",
     "text": [
      "[400, 256]\n",
      "[256, 128]\n",
      "[128, 64]\n",
      "[64, 32]\n",
      "[32, 5]\n"
     ]
    }
   ],
   "source": [
    "# 다층 구조 H_Layer 4 , Node : [64, 32, 16, 4]\n",
    "LEARNING_RATE = 0.001\n",
    "RND_MEAN = 0 \n",
    "RND_STD = 0.0030\n",
    "Layer_node_info = [256, 128, 64, 32]\n",
    "file_set('./Result/Relu20/%s _ ETA _ STD _ Relu _ Normal'%Layer_node_info)\n",
    "set_hidden(Layer_node_info)\n",
    "NUM_exec(epoch_count=1000, report=10)"
   ]
  },
  {
   "cell_type": "code",
   "execution_count": null,
   "metadata": {},
   "outputs": [],
   "source": [
    "# 다층 구조 H_Layer 4 , Node : [5 ,5 ,5 ,5, 5 ,5 ,5 ,5]\n",
    "LEARNING_RATE = 0.001\n",
    "RND_MEAN = 0 \n",
    "RND_STD = 0.0030 * 10\n",
    "Layer_node_info = [5 ,5 ,5 ,5, 5 ,5 ,5 ,5]\n",
    "file_set('./Result/Relu20/%s _ ETA _ STD _ Relu _ Normal'%Layer_node_info)\n",
    "set_hidden(Layer_node_info)\n",
    "NUM_exec(epoch_count=1000, report=10)"
   ]
  },
  {
   "cell_type": "markdown",
   "metadata": {},
   "source": [
    "---\n",
    "다층구조 :: Learning_Rate 수정"
   ]
  }
 ],
 "metadata": {
  "kernelspec": {
   "display_name": "My Jupyter",
   "language": "python",
   "name": "conda"
  },
  "language_info": {
   "codemirror_mode": {
    "name": "ipython",
    "version": 3
   },
   "file_extension": ".py",
   "mimetype": "text/x-python",
   "name": "python",
   "nbconvert_exporter": "python",
   "pygments_lexer": "ipython3",
   "version": "3.10.8"
  },
  "orig_nbformat": 4,
  "vscode": {
   "interpreter": {
    "hash": "46cfcddb68c68611b443db1323088e94cb0f2369a1b7d13b2027887d22e53dd5"
   }
  }
 },
 "nbformat": 4,
 "nbformat_minor": 2
}

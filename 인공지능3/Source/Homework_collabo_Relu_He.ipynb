{
 "cells": [
  {
   "cell_type": "code",
   "execution_count": 33,
   "metadata": {},
   "outputs": [],
   "source": [
    "%run Homework.ipynb"
   ]
  },
  {
   "cell_type": "code",
   "execution_count": 31,
   "metadata": {},
   "outputs": [],
   "source": []
  },
  {
   "cell_type": "code",
   "execution_count": 34,
   "metadata": {},
   "outputs": [],
   "source": [
    "def alloc_param_pair(shape):\n",
    "    # 허 초기화 방식 사용\n",
    "    RND_STD = np.sqrt(2 / (shape[0]))\n",
    "    weight = np.random.normal(RND_MEAN, np.power(RND_STD,2), shape)\n",
    "    bias = np.zeros(shape[-1])\n",
    "    return {'w':weight, 'b':bias}"
   ]
  },
  {
   "cell_type": "code",
   "execution_count": 35,
   "metadata": {},
   "outputs": [],
   "source": [
    "# 데이터 적재 함수 정의\n",
    "# chapter3\n",
    "def load_NUM_dataset():\n",
    "    with open('./data/8x20_info.csv') as csvfile:\n",
    "        csvreader = csv.reader(csvfile)\n",
    "        next(csvreader, None)     # 첫행을 읽지 않고 건너뛴다\n",
    "        rows = []\n",
    "        for row in csvreader:\n",
    "            rows.append(row)\n",
    "            \n",
    "    global data, input_cnt, output_cnt\n",
    "    input_cnt, output_cnt = 400, 5  # 20x20 img dataset 형식에 맞춤 \n",
    "    data = np.asarray(rows, dtype='float32')\n",
    "    #print(data)"
   ]
  },
  {
   "cell_type": "code",
   "execution_count": 36,
   "metadata": {},
   "outputs": [],
   "source": [
    "# 다층 구조 H_Layer 4 , Node : [4, 4, 4, 4]\n",
    "LEARNING_RATE = 0.001\n",
    "RND_MEAN = 0\n",
    "Layer_node_info = [4, 4]\n",
    "file_set('./Result/Relu8+20/%s _ ETA _ STD _ Relu _ He'%Layer_node_info)\n",
    "set_hidden(Layer_node_info)\n",
    "NUM_exec(epoch_count=1000, report=10)"
   ]
  },
  {
   "cell_type": "code",
   "execution_count": 38,
   "metadata": {},
   "outputs": [],
   "source": [
    "# 다층 구조 H_Layer 4 , Node : [4, 4, 4, 4]\n",
    "LEARNING_RATE = 0.001 * 0.8\n",
    "RND_MEAN = 0 \n",
    "Layer_node_info = [4, 4]\n",
    "file_set('./Result/Relu8+20/%s _ ETA x 0.8 _ STD _ Relu _ He'%Layer_node_info)\n",
    "set_hidden(Layer_node_info)\n",
    "NUM_exec(epoch_count=1000, report=10)"
   ]
  },
  {
   "cell_type": "code",
   "execution_count": 39,
   "metadata": {},
   "outputs": [],
   "source": [
    "# 다층 구조 H_Layer 4 , Node : [4, 4, 4, 4]\n",
    "LEARNING_RATE = 0.001 * 0.1\n",
    "RND_MEAN = 0 \n",
    "Layer_node_info = [4, 4]\n",
    "file_set('./Result/Relu8+20/%s _ ETA x 0.1 _ STD _ Relu _ He'%Layer_node_info)\n",
    "set_hidden(Layer_node_info)\n",
    "NUM_exec(epoch_count=1000, report=10)"
   ]
  },
  {
   "cell_type": "code",
   "execution_count": 40,
   "metadata": {},
   "outputs": [],
   "source": [
    "# 다층 구조 H_Layer 4 , Node : [4, 4, 4, 4]\n",
    "LEARNING_RATE = 0.001 * 0.1\n",
    "RND_MEAN = 0 \n",
    "Layer_node_info = [256, 256]\n",
    "file_set('./Result/Relu8+20/%s _ ETA x 0.1 _ STD _ Relu _ He'%Layer_node_info)\n",
    "set_hidden(Layer_node_info)\n",
    "NUM_exec(epoch_count=1000, report=10)"
   ]
  },
  {
   "cell_type": "code",
   "execution_count": 41,
   "metadata": {},
   "outputs": [],
   "source": [
    "# 다층 구조 H_Layer 4 , Node : [4, 4, 4, 4]\n",
    "LEARNING_RATE = 0.001 * 0.08\n",
    "RND_MEAN = 0 \n",
    "Layer_node_info = [256, 256]\n",
    "file_set('./Result/Relu8+20/%s _ ETA x 0.08 _ STD _ Relu _ He'%Layer_node_info)\n",
    "set_hidden(Layer_node_info)\n",
    "NUM_exec(epoch_count=1000, report=10)"
   ]
  },
  {
   "cell_type": "code",
   "execution_count": 42,
   "metadata": {},
   "outputs": [],
   "source": [
    "# 다층 구조 H_Layer 4 , Node : [4, 4, 4, 4]\n",
    "LEARNING_RATE = 0.001 * 0.08\n",
    "RND_MEAN = 0 \n",
    "Layer_node_info = [512, 128]\n",
    "file_set('./Result/Relu8+20/%s _ ETA x 0.08 _ STD _ Relu _ He'%Layer_node_info)\n",
    "set_hidden(Layer_node_info)\n",
    "NUM_exec(epoch_count=1000, report=10)"
   ]
  },
  {
   "cell_type": "code",
   "execution_count": 43,
   "metadata": {},
   "outputs": [],
   "source": [
    "# 다층 구조 H_Layer 4 , Node : [4, 4, 4, 4]\n",
    "LEARNING_RATE = 0.001 * 0.08\n",
    "RND_MEAN = 0 \n",
    "Layer_node_info = [256, 128, 32]\n",
    "file_set('./Result/Relu8+20/%s _ ETA x 0.08 _ STD _ Relu _ He'%Layer_node_info)\n",
    "set_hidden(Layer_node_info)\n",
    "NUM_exec(epoch_count=1000, report=10)"
   ]
  },
  {
   "cell_type": "code",
   "execution_count": 44,
   "metadata": {},
   "outputs": [],
   "source": [
    "# 다층 구조 H_Layer 4 , Node : [4, 4, 4, 4]\n",
    "LEARNING_RATE = 0.001\n",
    "RND_MEAN = 0 \n",
    "Layer_node_info = [256, 256]\n",
    "file_set('./Result/Relu8+20/%s _ ETA _ STD _ Relu _ He'%Layer_node_info)\n",
    "set_hidden(Layer_node_info)\n",
    "NUM_exec(epoch_count=1000, report=10)"
   ]
  },
  {
   "cell_type": "code",
   "execution_count": null,
   "metadata": {},
   "outputs": [],
   "source": [
    "# 다층 구조 H_Layer 4 , Node : [4, 4, 4, 4]\n",
    "LEARNING_RATE = 0.001\n",
    "RND_MEAN = 0 \n",
    "Layer_node_info = [512, 128]\n",
    "file_set('./Result/Relu8+20/%s _ ETA _ STD _ Relu _ He'%Layer_node_info)\n",
    "set_hidden(Layer_node_info)\n",
    "NUM_exec(epoch_count=1000, report=10)"
   ]
  }
 ],
 "metadata": {
  "kernelspec": {
   "display_name": "My Jupyter",
   "language": "python",
   "name": "conda"
  },
  "language_info": {
   "codemirror_mode": {
    "name": "ipython",
    "version": 3
   },
   "file_extension": ".py",
   "mimetype": "text/x-python",
   "name": "python",
   "nbconvert_exporter": "python",
   "pygments_lexer": "ipython3",
   "version": "3.10.8"
  },
  "orig_nbformat": 4,
  "vscode": {
   "interpreter": {
    "hash": "46cfcddb68c68611b443db1323088e94cb0f2369a1b7d13b2027887d22e53dd5"
   }
  }
 },
 "nbformat": 4,
 "nbformat_minor": 2
}

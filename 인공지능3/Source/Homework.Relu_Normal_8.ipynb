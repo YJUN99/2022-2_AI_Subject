{
 "cells": [
  {
   "cell_type": "code",
   "execution_count": 26,
   "metadata": {},
   "outputs": [],
   "source": [
    "%run Homework.ipynb"
   ]
  },
  {
   "cell_type": "code",
   "execution_count": 27,
   "metadata": {},
   "outputs": [],
   "source": [
    "# 데이터 적재 함수 정의\n",
    "# chapter3\n",
    "def load_NUM_dataset():\n",
    "    with open('./data/8x8_info.csv') as csvfile:\n",
    "        csvreader = csv.reader(csvfile)\n",
    "        next(csvreader, None)     # 첫행을 읽지 않고 건너뛴다\n",
    "        rows = []\n",
    "        for row in csvreader:\n",
    "            rows.append(row)\n",
    "            \n",
    "    global data, input_cnt, output_cnt\n",
    "    input_cnt, output_cnt = 400, 5  # 20x20 img dataset 형식에 맞춤 \n",
    "    data = np.asarray(rows, dtype='float32')"
   ]
  },
  {
   "cell_type": "code",
   "execution_count": 28,
   "metadata": {},
   "outputs": [],
   "source": [
    "def alloc_param_pair(shape):\n",
    "    # 허 초기화 방식 사용\n",
    "    RND_STD = np.sqrt(2 / (shape[0]))\n",
    "    weight = np.random.normal(RND_MEAN, np.power(RND_STD,2), shape)\n",
    "    bias = np.zeros(shape[-1])\n",
    "    return {'w':weight, 'b':bias}"
   ]
  },
  {
   "cell_type": "code",
   "execution_count": 29,
   "metadata": {},
   "outputs": [],
   "source": [
    "# 단층구조 Node : 1\n",
    "LEARNING_RATE = 0.001\n",
    "RND_MEAN = 0\n",
    "RND_STD = 0.0030\n",
    "Layer_node_info = [256,256]\n",
    "file_set('./Result/Relu8/%s _ ETA _ STD _ Relu _ He'%Layer_node_info)\n",
    "set_hidden(Layer_node_info)\n",
    "NUM_exec(epoch_count=1000, report=10)\n",
    "f.close()"
   ]
  },
  {
   "cell_type": "code",
   "execution_count": 32,
   "metadata": {},
   "outputs": [],
   "source": [
    "# 단층구조 Node : 1\n",
    "LEARNING_RATE = 0.001 * 0.8\n",
    "RND_MEAN = 0\n",
    "RND_STD = 0.0030\n",
    "Layer_node_info = [256,256]\n",
    "file_set('./Result/Relu8/%s _ Epoch 2000 _ ETA _ mb_size 5 _ STD _ Relu _ He'%Layer_node_info)\n",
    "set_hidden(Layer_node_info)\n",
    "NUM_exec(epoch_count=2000, mb_size = 5, report=10)\n",
    "f.close()"
   ]
  },
  {
   "cell_type": "code",
   "execution_count": 25,
   "metadata": {},
   "outputs": [],
   "source": [
    "# 단층구조 Node : 1\n",
    "LEARNING_RATE = 0.001 * 0.08\n",
    "RND_MEAN = 0\n",
    "RND_STD = 0.0030\n",
    "Layer_node_info = [256,128]\n",
    "file_set('./Result/Relu8/%s  _ ETA _ STD _ Relu _ He'%Layer_node_info)\n",
    "set_hidden(Layer_node_info)\n",
    "NUM_exec(epoch_count=2000, report=10)\n",
    "f.close()"
   ]
  },
  {
   "cell_type": "code",
   "execution_count": 17,
   "metadata": {},
   "outputs": [],
   "source": [
    "# 단층구조 Node : 1\n",
    "LEARNING_RATE = 0.001 * 0.1\n",
    "RND_MEAN = 0\n",
    "Layer_node_info = [80,60,40,20,10,5]\n",
    "file_set('./Result/Relu8/%s _ ETA _ STD _ Relu _ He'%Layer_node_info)\n",
    "set_hidden(Layer_node_info)\n",
    "NUM_exec(epoch_count=1000, report=10)\n",
    "f.close()"
   ]
  },
  {
   "cell_type": "code",
   "execution_count": 20,
   "metadata": {},
   "outputs": [],
   "source": [
    "# 단층구조 Node : 1\n",
    "LEARNING_RATE = 0.001 * 0.1\n",
    "RND_MEAN = 0\n",
    "Layer_node_info = [64, 16]\n",
    "file_set('./Result/Relu8/%s _ ETA _ STD _ Relu _ He'%Layer_node_info)\n",
    "set_hidden(Layer_node_info)\n",
    "NUM_exec(epoch_count=2000, report=10)\n",
    "f.close()"
   ]
  },
  {
   "cell_type": "code",
   "execution_count": 21,
   "metadata": {},
   "outputs": [],
   "source": [
    "# 단층구조 Node : 1\n",
    "LEARNING_RATE = 0.001 * 0.1\n",
    "RND_MEAN = 0\n",
    "Layer_node_info = [128, 16]\n",
    "file_set('./Result/Relu8/%s _ ETA _ STD _ Relu _ He'%Layer_node_info)\n",
    "set_hidden(Layer_node_info)\n",
    "NUM_exec(epoch_count=2000, report=10)\n",
    "f.close()"
   ]
  },
  {
   "cell_type": "code",
   "execution_count": null,
   "metadata": {},
   "outputs": [],
   "source": [
    "# 단층구조 Node : 1\n",
    "LEARNING_RATE = 0.001 * 0.1\n",
    "RND_MEAN = 0\n",
    "Layer_node_info = [256,256]\n",
    "file_set('./Result/Relu8/%s _ ETA _ STD x 0.1 _ Relu _ He'%Layer_node_info)\n",
    "set_hidden(Layer_node_info)\n",
    "NUM_exec(epoch_count=2000, report=10)\n",
    "f.close()"
   ]
  },
  {
   "cell_type": "code",
   "execution_count": 18,
   "metadata": {},
   "outputs": [],
   "source": [
    "# 단층구조 Node : 1\n",
    "LEARNING_RATE = 0.001 * 0.01\n",
    "RND_MEAN = 0\n",
    "RND_STD = 0.0030\n",
    "Layer_node_info = [64,32,16]\n",
    "file_set('./Result/Relu8/%s  _ ETA x 0.01 _ STD _ Relu _ He'%Layer_node_info)\n",
    "set_hidden(Layer_node_info)\n",
    "NUM_exec(epoch_count=1000, report=10)\n",
    "f.close()"
   ]
  },
  {
   "cell_type": "code",
   "execution_count": null,
   "metadata": {},
   "outputs": [],
   "source": [
    "# 단층구조 Node : 1\n",
    "LEARNING_RATE = 0.001 * 0.1\n",
    "RND_MEAN = 0\n",
    "RND_STD = 0.0030\n",
    "Layer_node_info = [64, 32]\n",
    "file_set('./Result/Relu8/%s _ ETA _ STD _ Relu _ Normal'%Layer_node_info)\n",
    "set_hidden(Layer_node_info)\n",
    "NUM_exec(epoch_count=1000, report=10)\n",
    "f.close()"
   ]
  },
  {
   "cell_type": "code",
   "execution_count": null,
   "metadata": {},
   "outputs": [],
   "source": [
    "# 단층구조 Node : 1\n",
    "LEARNING_RATE = 0.001\n",
    "RND_MEAN = 0\n",
    "RND_STD = 0.0030\n",
    "Layer_node_info = [16, 16]\n",
    "file_set('./Result/Relu8/%s _ ETA _ STD _ Relu _ Normal'%Layer_node_info)\n",
    "set_hidden(Layer_node_info)\n",
    "NUM_exec(epoch_count=1000, report=10)\n",
    "f.close()"
   ]
  },
  {
   "cell_type": "code",
   "execution_count": null,
   "metadata": {},
   "outputs": [],
   "source": [
    "# 단층구조 Node : 1\n",
    "LEARNING_RATE = 0.001\n",
    "RND_MEAN = 0\n",
    "RND_STD = 0.0030\n",
    "Layer_node_info = [32, 32]\n",
    "file_set('./Result/Relu8/%s _ ETA _ STD _ Relu _ Normal'%Layer_node_info)\n",
    "set_hidden(Layer_node_info)\n",
    "NUM_exec(epoch_count=1000, report=10)\n",
    "f.close()"
   ]
  },
  {
   "cell_type": "code",
   "execution_count": null,
   "metadata": {},
   "outputs": [],
   "source": [
    "# 단층구조 Node : 1\n",
    "LEARNING_RATE = 0.001\n",
    "RND_MEAN = 0\n",
    "RND_STD = 0.0030\n",
    "Layer_node_info = [64, 64]\n",
    "file_set('./Result/Relu8/%s _ ETA _ STD _ Relu _ Normal'%Layer_node_info)\n",
    "set_hidden(Layer_node_info)\n",
    "NUM_exec(epoch_count=1000, report=10)\n",
    "f.close()"
   ]
  },
  {
   "cell_type": "code",
   "execution_count": null,
   "metadata": {},
   "outputs": [],
   "source": [
    "# 단층구조 Node : 1\n",
    "LEARNING_RATE = 0.001\n",
    "RND_MEAN = 0\n",
    "RND_STD = 0.0030\n",
    "Layer_node_info = [128, 64]\n",
    "file_set('./Result/Relu8/%s _ ETA _ STD _ mbsz 5 _Relu _ Normal'%Layer_node_info)\n",
    "set_hidden(Layer_node_info)\n",
    "NUM_exec(epoch_count=1000, mb_size = 5 ,report=10)\n",
    "f.close()"
   ]
  },
  {
   "cell_type": "code",
   "execution_count": 16,
   "metadata": {},
   "outputs": [],
   "source": [
    "# 단층구조 Node : 1\n",
    "LEARNING_RATE = 0.001\n",
    "RND_MEAN = 0\n",
    "RND_STD = 0.0030\n",
    "Layer_node_info = [128, 64]\n",
    "file_set('./Result/Relu8/%s _ ETA _ STD _ mbsz 5 _Relu _ Normal'%Layer_node_info)\n",
    "set_hidden(Layer_node_info)\n",
    "NUM_exec(epoch_count=1000, mb_size = 1 ,report=10)\n",
    "f.close()"
   ]
  },
  {
   "cell_type": "code",
   "execution_count": null,
   "metadata": {},
   "outputs": [],
   "source": [
    "# 단층구조 Node : 1\n",
    "LEARNING_RATE = 0.001\n",
    "RND_MEAN = 0\n",
    "RND_STD = 0.0030\n",
    "Layer_node_info = [2, 2, 2]\n",
    "file_set('./Result/Relu8/%s _ ETA _ STD _ Relu _ Normal'%Layer_node_info)\n",
    "set_hidden(Layer_node_info)\n",
    "NUM_exec(epoch_count=1000, report=10)\n",
    "f.close()"
   ]
  },
  {
   "cell_type": "code",
   "execution_count": null,
   "metadata": {},
   "outputs": [],
   "source": [
    "# 단층구조 Node : 1\n",
    "LEARNING_RATE = 0.001\n",
    "RND_MEAN = 0\n",
    "RND_STD = 0.0030\n",
    "Layer_node_info = [16, 16, 16]\n",
    "file_set('./Result/Relu8/%s _ ETA _ STD _ Relu _ Normal'%Layer_node_info)\n",
    "set_hidden(Layer_node_info)\n",
    "NUM_exec(epoch_count=1000, report=10)\n",
    "f.close()"
   ]
  },
  {
   "cell_type": "code",
   "execution_count": null,
   "metadata": {},
   "outputs": [],
   "source": [
    "# 단층구조 Node : 1\n",
    "LEARNING_RATE = 0.001\n",
    "RND_MEAN = 0\n",
    "RND_STD = 0.0030\n",
    "Layer_node_info = [32, 32, 32]\n",
    "file_set('./Result/Relu8/%s _ ETA _ STD _ Relu _ Normal'%Layer_node_info)\n",
    "set_hidden(Layer_node_info)\n",
    "NUM_exec(epoch_count=1000, report=10)\n",
    "f.close()"
   ]
  }
 ],
 "metadata": {
  "kernelspec": {
   "display_name": "My Jupyter",
   "language": "python",
   "name": "conda"
  },
  "language_info": {
   "codemirror_mode": {
    "name": "ipython",
    "version": 3
   },
   "file_extension": ".py",
   "mimetype": "text/x-python",
   "name": "python",
   "nbconvert_exporter": "python",
   "pygments_lexer": "ipython3",
   "version": "3.10.8"
  },
  "orig_nbformat": 4,
  "vscode": {
   "interpreter": {
    "hash": "46cfcddb68c68611b443db1323088e94cb0f2369a1b7d13b2027887d22e53dd5"
   }
  }
 },
 "nbformat": 4,
 "nbformat_minor": 2
}
